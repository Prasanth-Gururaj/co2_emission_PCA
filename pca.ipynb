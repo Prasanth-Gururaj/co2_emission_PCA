{
 "cells": [
  {
   "cell_type": "code",
   "execution_count": null,
   "id": "c761efc2-c91a-4704-b436-f809d4d555aa",
   "metadata": {},
   "outputs": [],
   "source": []
  }
 ],
 "metadata": {
  "kernelspec": {
   "display_name": "",
   "name": ""
  },
  "language_info": {
   "name": ""
  }
 },
 "nbformat": 4,
 "nbformat_minor": 5
}
